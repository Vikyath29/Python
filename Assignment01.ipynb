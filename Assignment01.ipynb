{
 "cells": [
  {
   "cell_type": "markdown",
   "metadata": {
    "id": "mi_vh8tgWhW6"
   },
   "source": [
    "**ASSIGNMENT 1**\n",
    "\n",
    "NAME:Vikyath Shetty\n",
    "\n",
    "ROLL NO:55"
   ]
  },
  {
   "cell_type": "code",
   "execution_count": null,
   "metadata": {
    "colab": {
     "base_uri": "https://localhost:8080/",
     "height": 0
    },
    "id": "6VBdwWCLVroG",
    "outputId": "9d5a6f91-0a63-4f60-900a-5c605c7feab5"
   },
   "outputs": [],
   "source": [
    "class Product:\n",
    "    def __init__(self, name, price, stock):\n",
    "        self.name = name\n",
    "        self.price = price\n",
    "        self.stock = stock\n",
    "\n",
    "    def update_stock(self, quantity):\n",
    "        self.stock += quantity\n",
    "\n",
    "    def __str__(self):\n",
    "        return f\"Product: {self.name}, Price: ${self.price}, Stock: {self.stock}\"\n",
    "\n",
    "\n",
    "def add_product(products):\n",
    "    name = input(\"Enter product name: \")\n",
    "    price = float(input(\"Enter product price: \"))\n",
    "    stock = int(input(\"Enter product stock: \"))\n",
    "    products[name] = Product(name, price, stock)\n",
    "    print(\"Product added successfully!\")\n",
    "\n",
    "\n",
    "def update_product_stock(products):\n",
    "    name = input(\"Enter product name to update: \")\n",
    "    if name in products:\n",
    "        quantity = int(input(\"Enter quantity to add/remove: \"))\n",
    "        products[name].update_stock(quantity)\n",
    "        print(\"Stock updated successfully!\")\n",
    "    else:\n",
    "        print(\"Product not found!\")\n",
    "\n",
    "\n",
    "def view_product_details(products):\n",
    "    name = input(\"Enter product name: \")\n",
    "    if name in products:\n",
    "        print(products[name])\n",
    "    else:\n",
    "        print(\"Product not found!\")\n",
    "\n",
    "\n",
    "def main():\n",
    "    products = {}\n",
    "    while True:\n",
    "        print(\"\\n1. Add a new product\")\n",
    "        print(\"2. Update the stock of an existing product\")\n",
    "        print(\"3. View product details\")\n",
    "        print(\"4. Exit the program\")\n",
    "        print(products)\n",
    "        choice = input(\"Enter your choice: \")\n",
    "        \n",
    "        if choice == '1':\n",
    "            add_product(products)\n",
    "        elif choice == '2':\n",
    "            update_product_stock(products)\n",
    "        elif choice == '3':\n",
    "            view_product_details(products)\n",
    "        elif choice == '4':\n",
    "            print(\"Exiting the system. Goodbye!\")\n",
    "            break\n",
    "        else:\n",
    "            print(\"Invalid choice. Please try again.\")\n",
    "\n",
    "if __name__ == \"__main__\":\n",
    "    main()\n"
   ]
  },
  {
   "cell_type": "code",
   "execution_count": null,
   "metadata": {},
   "outputs": [],
   "source": []
  }
 ],
 "metadata": {
  "colab": {
   "authorship_tag": "ABX9TyMydY3PqVeZqOVBEm0fdpcS",
   "include_colab_link": true,
   "provenance": []
  },
  "kernelspec": {
   "display_name": "Python 3 (ipykernel)",
   "language": "python",
   "name": "python3"
  },
  "language_info": {
   "codemirror_mode": {
    "name": "ipython",
    "version": 3
   },
   "file_extension": ".py",
   "mimetype": "text/x-python",
   "name": "python",
   "nbconvert_exporter": "python",
   "pygments_lexer": "ipython3",
   "version": "3.12.3"
  }
 },
 "nbformat": 4,
 "nbformat_minor": 4
}
