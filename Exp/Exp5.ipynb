{
 "cells": [
  {
   "cell_type": "markdown",
   "id": "707d67b3",
   "metadata": {},
   "source": [
    "## Vikyath Shetty - 55"
   ]
  },
  {
   "cell_type": "code",
   "execution_count": 1,
   "id": "38b02ebc-d28a-455d-9c85-fdfe6cc0c332",
   "metadata": {},
   "outputs": [
    {
     "name": "stdout",
     "output_type": "stream",
     "text": [
      "Initial Stack\n",
      "['a', 'b', 'c']\n"
     ]
    }
   ],
   "source": [
    "stack = list ()\n",
    "\n",
    "# Append Operation\n",
    "stack.append ('a')\n",
    "stack.append ('b')\n",
    "stack.append ('c')\n",
    "print ('Initial Stack')\n",
    "print (stack)"
   ]
  },
  {
   "cell_type": "code",
   "execution_count": 2,
   "id": "e093b399-c972-454f-8c98-be8351b49225",
   "metadata": {},
   "outputs": [
    {
     "name": "stdout",
     "output_type": "stream",
     "text": [
      "c\n",
      "b\n",
      "a\n",
      "[]\n"
     ]
    }
   ],
   "source": [
    "# Pop Operation\n",
    "print (stack.pop ())\n",
    "print (stack.pop ())\n",
    "print (stack.pop ())\n",
    "print (stack)"
   ]
  },
  {
   "cell_type": "code",
   "execution_count": 45,
   "id": "31c21202-ab3f-486a-a363-4e454349c1ea",
   "metadata": {},
   "outputs": [],
   "source": [
    "\n",
    "class StackDepth:\n",
    "    def maximumDepth (self, stringInput : str) -> int:\n",
    "        depth = 0\n",
    "        current_depth = 0\n",
    "        string = list(stringInput)\n",
    "        while string:\n",
    "            char = string.pop(0)\n",
    "            if(char == '('):\n",
    "                current_depth += 1\n",
    "                if current_depth > depth:\n",
    "                    depth += 1\n",
    "            elif(char == ')'):\n",
    "                current_depth -= 1\n",
    "        return depth      "
   ]
  },
  {
   "cell_type": "code",
   "execution_count": 48,
   "id": "45a31de9-d0dd-4afb-9c29-c2803a52ae22",
   "metadata": {},
   "outputs": [
    {
     "name": "stdout",
     "output_type": "stream",
     "text": [
      "3\n",
      "3\n",
      "3\n"
     ]
    }
   ],
   "source": [
    "stack_depth = StackDepth()\n",
    "print(stack_depth.maximumDepth(\"(1+(2*3)+((8)/4))+1\"))\n",
    "print(stack_depth.maximumDepth(\"(1)+((2))+(((3)))\"))\n",
    "print(stack_depth.maximumDepth(\"()(())((()()))\"))\n",
    "   "
   ]
  },
  {
   "cell_type": "code",
   "execution_count": null,
   "id": "8500db45-dd0b-494d-8668-7877d86e28dc",
   "metadata": {},
   "outputs": [],
   "source": []
  }
 ],
 "metadata": {
  "kernelspec": {
   "display_name": "Python 3 (ipykernel)",
   "language": "python",
   "name": "python3"
  },
  "language_info": {
   "codemirror_mode": {
    "name": "ipython",
    "version": 3
   },
   "file_extension": ".py",
   "mimetype": "text/x-python",
   "name": "python",
   "nbconvert_exporter": "python",
   "pygments_lexer": "ipython3",
   "version": "3.12.3"
  }
 },
 "nbformat": 4,
 "nbformat_minor": 5
}
