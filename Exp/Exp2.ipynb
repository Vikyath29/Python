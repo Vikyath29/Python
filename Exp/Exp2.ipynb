{
 "cells": [
  {
   "cell_type": "markdown",
   "id": "4725fbb5",
   "metadata": {},
   "source": [
    "## Vikyath Shetty - 55"
   ]
  },
  {
   "cell_type": "code",
   "execution_count": 17,
   "id": "edbb73d3-edce-4ed7-a95e-5f5106a39158",
   "metadata": {},
   "outputs": [
    {
     "name": "stdout",
     "output_type": "stream",
     "text": [
      "Halfstack Frontend\n"
     ]
    }
   ],
   "source": [
    "class Employee:\n",
    "    def __init__ (\n",
    "            self,\n",
    "            designation : str = 'Developer',\n",
    "            frontend : bool = False,\n",
    "            backend : bool = False\n",
    "    ):\n",
    "        self.designation = designation\n",
    "        self.frontend = frontend\n",
    "        self.backend = backend\n",
    "\n",
    "    def __repr__ (self):\n",
    "        return '{},{},{}'.format (self.designation, self.frontend, self.backend)\n",
    "    \n",
    "    ### Write the your method over here.\n",
    "    def verifier (self):\n",
    "        if(self.frontend == True and self.backend == True):\n",
    "            return 'Fullstack'\n",
    "        elif(self.frontend == True or self.backend == True):\n",
    "            if(self.frontend == True):\n",
    "                return '{} Frontend'.format(self.designation)\n",
    "            else:\n",
    "                return '{} Backend'.format(self.designation)\n",
    "        else:\n",
    "            return 'Not a Developer'\n",
    "\n",
    "if __name__ == '__main__':\n",
    "    firstEmployee = Employee ('Halfstack', True)\n",
    "    print(firstEmployee.verifier())"
   ]
  },
  {
   "cell_type": "markdown",
   "id": "2cd7c154",
   "metadata": {},
   "source": []
  },
  {
   "cell_type": "code",
   "execution_count": null,
   "id": "bac3eb9c-7a0e-4576-b8fd-4df63c3b394f",
   "metadata": {},
   "outputs": [],
   "source": []
  }
 ],
 "metadata": {
  "kernelspec": {
   "display_name": "Python [conda env:base] *",
   "language": "python",
   "name": "conda-base-py"
  },
  "language_info": {
   "codemirror_mode": {
    "name": "ipython",
    "version": 3
   },
   "file_extension": ".py",
   "mimetype": "text/x-python",
   "name": "python",
   "nbconvert_exporter": "python",
   "pygments_lexer": "ipython3",
   "version": "3.12.7"
  }
 },
 "nbformat": 4,
 "nbformat_minor": 5
}
