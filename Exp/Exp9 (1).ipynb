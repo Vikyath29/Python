{
 "cells": [
  {
   "cell_type": "markdown",
   "id": "1cf5caac-6b5c-416b-be7c-c645ce64c8ad",
   "metadata": {},
   "source": [
    "# Vikyath Shetty - Roll no: 55"
   ]
  },
  {
   "cell_type": "code",
   "execution_count": 22,
   "id": "f2e3c526-ee6d-4c16-a949-6c32efb37190",
   "metadata": {},
   "outputs": [],
   "source": [
    "import numpy as np"
   ]
  },
  {
   "cell_type": "markdown",
   "id": "37a2adde-4745-45af-8f1e-a4fd618d278e",
   "metadata": {},
   "source": [
    "# 1. Array Creation Techniques"
   ]
  },
  {
   "cell_type": "code",
   "execution_count": 24,
   "id": "b37a7a57-1b33-4981-99f9-6dc65d27cd06",
   "metadata": {},
   "outputs": [
    {
     "name": "stdout",
     "output_type": "stream",
     "text": [
      "1. Array Creation Techniques\n"
     ]
    }
   ],
   "source": [
    "print(\"1. Array Creation Techniques\")"
   ]
  },
  {
   "cell_type": "markdown",
   "id": "f837a942-2c94-4895-bd46-7cdc58c5dc68",
   "metadata": {},
   "source": [
    "# a. Creating an array from a list"
   ]
  },
  {
   "cell_type": "code",
   "execution_count": 26,
   "id": "29d7a960-8a2e-4a51-876b-522ad86a320a",
   "metadata": {},
   "outputs": [
    {
     "data": {
      "text/plain": [
       "array([1, 2, 3, 4, 5])"
      ]
     },
     "execution_count": 26,
     "metadata": {},
     "output_type": "execute_result"
    }
   ],
   "source": [
    "array_from_list = np.array([1, 2, 3, 4, 5])\n",
    "array_from_list"
   ]
  },
  {
   "cell_type": "markdown",
   "id": "a24eb559-b738-4a21-acab-3888ca05aa43",
   "metadata": {},
   "source": [
    "# b. Using arange()"
   ]
  },
  {
   "cell_type": "code",
   "execution_count": 28,
   "id": "7aa26ad4-026b-4867-ad29-6018c5d046ee",
   "metadata": {},
   "outputs": [
    {
     "data": {
      "text/plain": [
       "array([0, 2, 4, 6, 8])"
      ]
     },
     "execution_count": 28,
     "metadata": {},
     "output_type": "execute_result"
    }
   ],
   "source": [
    "array_arange = np.arange(0, 10, 2)\n",
    "array_arange"
   ]
  },
  {
   "cell_type": "markdown",
   "id": "80b3a8b3-963b-4be3-90f0-6c732345e6ff",
   "metadata": {},
   "source": [
    "# c. Using linspace()"
   ]
  },
  {
   "cell_type": "code",
   "execution_count": 30,
   "id": "5fe99ab8-3828-460e-90a2-aa2896e79d4e",
   "metadata": {},
   "outputs": [
    {
     "data": {
      "text/plain": [
       "array([ 0. ,  2.5,  5. ,  7.5, 10. ])"
      ]
     },
     "execution_count": 30,
     "metadata": {},
     "output_type": "execute_result"
    }
   ],
   "source": [
    "array_linspace = np.linspace(0, 10, 5)  # Divides 0 to 10 into 5 points\n",
    "array_linspace"
   ]
  },
  {
   "cell_type": "markdown",
   "id": "ddb2ffaf-c868-48ac-bf15-22880d6fa9ad",
   "metadata": {},
   "source": [
    "# d. Using zeros()"
   ]
  },
  {
   "cell_type": "code",
   "execution_count": 32,
   "id": "73f3d63b-2242-41b6-b49a-3a0702a72280",
   "metadata": {},
   "outputs": [
    {
     "data": {
      "text/plain": [
       "array([[0., 0., 0.],\n",
       "       [0., 0., 0.],\n",
       "       [0., 0., 0.]])"
      ]
     },
     "execution_count": 32,
     "metadata": {},
     "output_type": "execute_result"
    }
   ],
   "source": [
    "array_zeros = np.zeros((3, 3))\n",
    "array_zeros"
   ]
  },
  {
   "cell_type": "markdown",
   "id": "90b56c4c-92bb-499c-b301-0d51b715627e",
   "metadata": {},
   "source": [
    "# e. Using ones()"
   ]
  },
  {
   "cell_type": "code",
   "execution_count": 34,
   "id": "a22e3b3b-5248-4d95-b49b-8dbd7fca3a9d",
   "metadata": {},
   "outputs": [
    {
     "data": {
      "text/plain": [
       "array([[1., 1.],\n",
       "       [1., 1.]])"
      ]
     },
     "execution_count": 34,
     "metadata": {},
     "output_type": "execute_result"
    }
   ],
   "source": [
    "array_ones = np.ones((2, 2))\n",
    "array_ones"
   ]
  },
  {
   "cell_type": "markdown",
   "id": "d1770db4-ac4d-4de6-a068-7e435d59fd68",
   "metadata": {},
   "source": [
    "# f. Using eye() for identity matrix"
   ]
  },
  {
   "cell_type": "code",
   "execution_count": 36,
   "id": "6c63180f-8b2d-4652-ab5c-137f7e953668",
   "metadata": {},
   "outputs": [
    {
     "data": {
      "text/plain": [
       "array([[1., 0., 0.],\n",
       "       [0., 1., 0.],\n",
       "       [0., 0., 1.]])"
      ]
     },
     "execution_count": 36,
     "metadata": {},
     "output_type": "execute_result"
    }
   ],
   "source": [
    "array_eye = np.eye(3)\n",
    "array_eye"
   ]
  },
  {
   "cell_type": "markdown",
   "id": "9d9462ab-2477-40d9-b6aa-ed073e45ce2b",
   "metadata": {},
   "source": [
    "# g. Using random() for random values"
   ]
  },
  {
   "cell_type": "code",
   "execution_count": 38,
   "id": "4b386499-55b0-4da7-ab20-ea286025e7b1",
   "metadata": {},
   "outputs": [
    {
     "data": {
      "text/plain": [
       "array([[0.67447586, 0.2688167 , 0.167599  ],\n",
       "       [0.11901216, 0.64653241, 0.59405107],\n",
       "       [0.8223556 , 0.18506197, 0.4373151 ]])"
      ]
     },
     "execution_count": 38,
     "metadata": {},
     "output_type": "execute_result"
    }
   ],
   "source": [
    "array_random = np.random.random((3, 3))\n",
    "array_random"
   ]
  },
  {
   "cell_type": "markdown",
   "id": "6b53d94a-efc3-4bcd-a5eb-8e2627c3803f",
   "metadata": {},
   "source": [
    "# 2. Different NumPy Methods"
   ]
  },
  {
   "cell_type": "code",
   "execution_count": 40,
   "id": "9429e8e7-b346-4ed4-8e94-92343c5f6835",
   "metadata": {},
   "outputs": [
    {
     "name": "stdout",
     "output_type": "stream",
     "text": [
      "\n",
      "2. NumPy Methods\n"
     ]
    }
   ],
   "source": [
    "print(\"\\n2. NumPy Methods\")"
   ]
  },
  {
   "cell_type": "markdown",
   "id": "018c118e-ca20-435b-8609-70464d75f8d8",
   "metadata": {},
   "source": [
    "# a. Reshaping an array"
   ]
  },
  {
   "cell_type": "code",
   "execution_count": 42,
   "id": "10a14483-9975-408f-8146-b9659efbc1c2",
   "metadata": {},
   "outputs": [
    {
     "data": {
      "text/plain": [
       "array([[1, 2, 3],\n",
       "       [4, 5, 6],\n",
       "       [7, 8, 9]])"
      ]
     },
     "execution_count": 42,
     "metadata": {},
     "output_type": "execute_result"
    }
   ],
   "source": [
    "reshaped_array = np.arange(1, 10).reshape(3, 3)\n",
    "reshaped_array"
   ]
  },
  {
   "cell_type": "markdown",
   "id": "066d9ffe-90fa-4701-ae0f-291aaea81064",
   "metadata": {},
   "source": [
    "# b. Transposing an array"
   ]
  },
  {
   "cell_type": "code",
   "execution_count": 44,
   "id": "64e4b257-ebc8-4d37-a98b-c16c94d9df7b",
   "metadata": {},
   "outputs": [
    {
     "data": {
      "text/plain": [
       "array([[1, 4, 7],\n",
       "       [2, 5, 8],\n",
       "       [3, 6, 9]])"
      ]
     },
     "execution_count": 44,
     "metadata": {},
     "output_type": "execute_result"
    }
   ],
   "source": [
    "transposed_array = reshaped_array.T\n",
    "transposed_array"
   ]
  },
  {
   "cell_type": "markdown",
   "id": "b90d3f15-16a5-4898-a721-9c3a0ea424c3",
   "metadata": {},
   "source": [
    "# c. Mathematical operations"
   ]
  },
  {
   "cell_type": "code",
   "execution_count": 46,
   "id": "c884ae42-a5aa-42b6-aad1-d0cded19f484",
   "metadata": {},
   "outputs": [
    {
     "data": {
      "text/plain": [
       "array([1.        , 1.41421356, 1.73205081])"
      ]
     },
     "execution_count": 46,
     "metadata": {},
     "output_type": "execute_result"
    }
   ],
   "source": [
    "array_math = np.array([1, 2, 3])\n",
    "array_math + 2\n",
    "array_math * 3\n",
    "np.sqrt(array_math)"
   ]
  },
  {
   "cell_type": "markdown",
   "id": "ce55dfc1-e691-4f86-9d3c-f3163e37a4c3",
   "metadata": {},
   "source": [
    "# d. Aggregation methods"
   ]
  },
  {
   "cell_type": "code",
   "execution_count": 48,
   "id": "1b989db7-0ae3-46c5-ae2b-01364a4a4429",
   "metadata": {},
   "outputs": [
    {
     "data": {
      "text/plain": [
       "1"
      ]
     },
     "execution_count": 48,
     "metadata": {},
     "output_type": "execute_result"
    }
   ],
   "source": [
    "np.sum(array_math)\n",
    "np.mean(array_math)\n",
    "np.max(array_math)\n",
    "np.min(array_math)"
   ]
  },
  {
   "cell_type": "markdown",
   "id": "a02bce29-9da4-440f-b415-044abac4dc41",
   "metadata": {},
   "source": [
    "# e. Concatenation of arrays"
   ]
  },
  {
   "cell_type": "code",
   "execution_count": 50,
   "id": "27886648-1acc-436b-82f2-58b76c05e19e",
   "metadata": {},
   "outputs": [
    {
     "data": {
      "text/plain": [
       "array([1, 2, 3, 4, 5, 6])"
      ]
     },
     "execution_count": 50,
     "metadata": {},
     "output_type": "execute_result"
    }
   ],
   "source": [
    "array_a = np.array([1, 2, 3])\n",
    "array_b = np.array([4, 5, 6])\n",
    "concat_array = np.concatenate((array_a, array_b))\n",
    "concat_array"
   ]
  },
  {
   "cell_type": "markdown",
   "id": "c6b1df69-dc90-418d-85b7-2e9d68f38e8b",
   "metadata": {},
   "source": [
    "# f. Sorting an array"
   ]
  },
  {
   "cell_type": "code",
   "execution_count": 52,
   "id": "f94d0b80-d7ec-4031-ae86-b1452a07a0f7",
   "metadata": {},
   "outputs": [
    {
     "data": {
      "text/plain": [
       "array([1, 2, 3, 4])"
      ]
     },
     "execution_count": 52,
     "metadata": {},
     "output_type": "execute_result"
    }
   ],
   "source": [
    "unsorted_array = np.array([3, 1, 4, 2])\n",
    "sorted_array = np.sort(unsorted_array)\n",
    "sorted_array"
   ]
  },
  {
   "cell_type": "markdown",
   "id": "52af9440-3e4d-4528-b65d-7fb79ee0c039",
   "metadata": {},
   "source": [
    "# g. Indexing and Slicing"
   ]
  },
  {
   "cell_type": "code",
   "execution_count": 54,
   "id": "4264da0e-1d84-4bb7-8f0f-ee92263ad0d1",
   "metadata": {},
   "outputs": [
    {
     "data": {
      "text/plain": [
       "array([2, 3])"
      ]
     },
     "execution_count": 54,
     "metadata": {},
     "output_type": "execute_result"
    }
   ],
   "source": [
    "indexed_value = array_math[1]  # Indexing\n",
    "indexed_value\n",
    "sliced_array = array_math[1:3]  # Slicing\n",
    "sliced_array"
   ]
  },
  {
   "cell_type": "markdown",
   "id": "6048c041-40d0-4640-b60c-cd63016b7d40",
   "metadata": {},
   "source": [
    "# h. Boolean Masking"
   ]
  },
  {
   "cell_type": "code",
   "execution_count": 56,
   "id": "e7883f6d-86eb-4674-885b-dc1decbb5f8d",
   "metadata": {},
   "outputs": [
    {
     "data": {
      "text/plain": [
       "array([3])"
      ]
     },
     "execution_count": 56,
     "metadata": {},
     "output_type": "execute_result"
    }
   ],
   "source": [
    "boolean_mask = array_math > 2\n",
    "boolean_mask\n",
    "array_math[boolean_mask]"
   ]
  },
  {
   "cell_type": "code",
   "execution_count": null,
   "id": "e0a6eeb3-4568-41a1-86da-ac549c664558",
   "metadata": {},
   "outputs": [],
   "source": []
  }
 ],
 "metadata": {
  "kernelspec": {
   "display_name": "Python 3 (ipykernel)",
   "language": "python",
   "name": "python3"
  },
  "language_info": {
   "codemirror_mode": {
    "name": "ipython",
    "version": 3
   },
   "file_extension": ".py",
   "mimetype": "text/x-python",
   "name": "python",
   "nbconvert_exporter": "python",
   "pygments_lexer": "ipython3",
   "version": "3.12.7"
  }
 },
 "nbformat": 4,
 "nbformat_minor": 5
}
